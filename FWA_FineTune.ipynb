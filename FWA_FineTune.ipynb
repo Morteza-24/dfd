{
  "nbformat": 4,
  "nbformat_minor": 0,
  "metadata": {
    "colab": {
      "provenance": [],
      "gpuType": "T4",
      "collapsed_sections": [
        "foeYDmHZegJs",
        "lLvn7jT6eoay"
      ]
    },
    "kernelspec": {
      "name": "python3",
      "display_name": "Python 3"
    },
    "language_info": {
      "name": "python"
    },
    "accelerator": "GPU"
  },
  "cells": [
    {
      "cell_type": "markdown",
      "source": [
        "# Initializations"
      ],
      "metadata": {
        "id": "foeYDmHZegJs"
      }
    },
    {
      "cell_type": "code",
      "source": [
        "!git clone https://github.com/Morteza-24/CVPRW2019_Face_Artifacts.git"
      ],
      "metadata": {
        "colab": {
          "base_uri": "https://localhost:8080/"
        },
        "collapsed": true,
        "id": "QXQeib5fXbX4",
        "outputId": "939cfcad-8e19-44ba-c1e9-2e6a9471900f"
      },
      "execution_count": null,
      "outputs": [
        {
          "output_type": "stream",
          "name": "stdout",
          "text": [
            "Cloning into 'CVPRW2019_Face_Artifacts'...\n",
            "remote: Enumerating objects: 122, done.\u001b[K\n",
            "remote: Counting objects: 100% (16/16), done.\u001b[K\n",
            "remote: Compressing objects: 100% (14/14), done.\u001b[K\n",
            "remote: Total 122 (delta 3), reused 10 (delta 2), pack-reused 106 (from 1)\u001b[K\n",
            "Receiving objects: 100% (122/122), 73.21 MiB | 19.46 MiB/s, done.\n",
            "Resolving deltas: 100% (42/42), done.\n",
            "Updating files: 100% (33/33), done.\n"
          ]
        }
      ]
    },
    {
      "cell_type": "code",
      "source": [
        "!pip install tf-slim\n",
        "!pip install opencv-python==3.4.18.65\n",
        "!pip install --upgrade \"tensorflow<=2.10\""
      ],
      "metadata": {
        "colab": {
          "base_uri": "https://localhost:8080/"
        },
        "collapsed": true,
        "id": "fuRgZhNtXgFa",
        "outputId": "dd66919c-dbc5-4b7d-bf63-5a78905c687f"
      },
      "execution_count": null,
      "outputs": [
        {
          "output_type": "stream",
          "name": "stdout",
          "text": [
            "Requirement already satisfied: tf-slim in /usr/local/lib/python3.10/dist-packages (1.1.0)\n",
            "Requirement already satisfied: absl-py>=0.2.2 in /usr/local/lib/python3.10/dist-packages (from tf-slim) (1.4.0)\n",
            "Requirement already satisfied: opencv-python==3.4.18.65 in /usr/local/lib/python3.10/dist-packages (3.4.18.65)\n",
            "Requirement already satisfied: numpy>=1.21.2 in /usr/local/lib/python3.10/dist-packages (from opencv-python==3.4.18.65) (1.26.4)\n",
            "Requirement already satisfied: tensorflow<=2.10 in /usr/local/lib/python3.10/dist-packages (2.10.0)\n",
            "Requirement already satisfied: absl-py>=1.0.0 in /usr/local/lib/python3.10/dist-packages (from tensorflow<=2.10) (1.4.0)\n",
            "Requirement already satisfied: astunparse>=1.6.0 in /usr/local/lib/python3.10/dist-packages (from tensorflow<=2.10) (1.6.3)\n",
            "Requirement already satisfied: flatbuffers>=2.0 in /usr/local/lib/python3.10/dist-packages (from tensorflow<=2.10) (24.3.25)\n",
            "Requirement already satisfied: gast<=0.4.0,>=0.2.1 in /usr/local/lib/python3.10/dist-packages (from tensorflow<=2.10) (0.4.0)\n",
            "Requirement already satisfied: google-pasta>=0.1.1 in /usr/local/lib/python3.10/dist-packages (from tensorflow<=2.10) (0.2.0)\n",
            "Requirement already satisfied: grpcio<2.0,>=1.24.3 in /usr/local/lib/python3.10/dist-packages (from tensorflow<=2.10) (1.64.1)\n",
            "Requirement already satisfied: h5py>=2.9.0 in /usr/local/lib/python3.10/dist-packages (from tensorflow<=2.10) (3.11.0)\n",
            "Requirement already satisfied: keras<2.11,>=2.10.0 in /usr/local/lib/python3.10/dist-packages (from tensorflow<=2.10) (2.10.0)\n",
            "Requirement already satisfied: keras-preprocessing>=1.1.1 in /usr/local/lib/python3.10/dist-packages (from tensorflow<=2.10) (1.1.2)\n",
            "Requirement already satisfied: libclang>=13.0.0 in /usr/local/lib/python3.10/dist-packages (from tensorflow<=2.10) (18.1.1)\n",
            "Requirement already satisfied: numpy>=1.20 in /usr/local/lib/python3.10/dist-packages (from tensorflow<=2.10) (1.26.4)\n",
            "Requirement already satisfied: opt-einsum>=2.3.2 in /usr/local/lib/python3.10/dist-packages (from tensorflow<=2.10) (3.3.0)\n",
            "Requirement already satisfied: packaging in /usr/local/lib/python3.10/dist-packages (from tensorflow<=2.10) (24.1)\n",
            "Requirement already satisfied: protobuf<3.20,>=3.9.2 in /usr/local/lib/python3.10/dist-packages (from tensorflow<=2.10) (3.19.6)\n",
            "Requirement already satisfied: setuptools in /usr/local/lib/python3.10/dist-packages (from tensorflow<=2.10) (71.0.4)\n",
            "Requirement already satisfied: six>=1.12.0 in /usr/local/lib/python3.10/dist-packages (from tensorflow<=2.10) (1.16.0)\n",
            "Requirement already satisfied: tensorboard<2.11,>=2.10 in /usr/local/lib/python3.10/dist-packages (from tensorflow<=2.10) (2.10.1)\n",
            "Requirement already satisfied: tensorflow-io-gcs-filesystem>=0.23.1 in /usr/local/lib/python3.10/dist-packages (from tensorflow<=2.10) (0.37.1)\n",
            "Requirement already satisfied: tensorflow-estimator<2.11,>=2.10.0 in /usr/local/lib/python3.10/dist-packages (from tensorflow<=2.10) (2.10.0)\n",
            "Requirement already satisfied: termcolor>=1.1.0 in /usr/local/lib/python3.10/dist-packages (from tensorflow<=2.10) (2.4.0)\n",
            "Requirement already satisfied: typing-extensions>=3.6.6 in /usr/local/lib/python3.10/dist-packages (from tensorflow<=2.10) (4.12.2)\n",
            "Requirement already satisfied: wrapt>=1.11.0 in /usr/local/lib/python3.10/dist-packages (from tensorflow<=2.10) (1.16.0)\n",
            "Requirement already satisfied: wheel<1.0,>=0.23.0 in /usr/local/lib/python3.10/dist-packages (from astunparse>=1.6.0->tensorflow<=2.10) (0.44.0)\n",
            "Requirement already satisfied: google-auth<3,>=1.6.3 in /usr/local/lib/python3.10/dist-packages (from tensorboard<2.11,>=2.10->tensorflow<=2.10) (2.27.0)\n",
            "Requirement already satisfied: google-auth-oauthlib<0.5,>=0.4.1 in /usr/local/lib/python3.10/dist-packages (from tensorboard<2.11,>=2.10->tensorflow<=2.10) (0.4.6)\n",
            "Requirement already satisfied: markdown>=2.6.8 in /usr/local/lib/python3.10/dist-packages (from tensorboard<2.11,>=2.10->tensorflow<=2.10) (3.7)\n",
            "Requirement already satisfied: requests<3,>=2.21.0 in /usr/local/lib/python3.10/dist-packages (from tensorboard<2.11,>=2.10->tensorflow<=2.10) (2.32.3)\n",
            "Requirement already satisfied: tensorboard-data-server<0.7.0,>=0.6.0 in /usr/local/lib/python3.10/dist-packages (from tensorboard<2.11,>=2.10->tensorflow<=2.10) (0.6.1)\n",
            "Requirement already satisfied: tensorboard-plugin-wit>=1.6.0 in /usr/local/lib/python3.10/dist-packages (from tensorboard<2.11,>=2.10->tensorflow<=2.10) (1.8.1)\n",
            "Requirement already satisfied: werkzeug>=1.0.1 in /usr/local/lib/python3.10/dist-packages (from tensorboard<2.11,>=2.10->tensorflow<=2.10) (3.0.4)\n",
            "Requirement already satisfied: cachetools<6.0,>=2.0.0 in /usr/local/lib/python3.10/dist-packages (from google-auth<3,>=1.6.3->tensorboard<2.11,>=2.10->tensorflow<=2.10) (5.5.0)\n",
            "Requirement already satisfied: pyasn1-modules>=0.2.1 in /usr/local/lib/python3.10/dist-packages (from google-auth<3,>=1.6.3->tensorboard<2.11,>=2.10->tensorflow<=2.10) (0.4.1)\n",
            "Requirement already satisfied: rsa<5,>=3.1.4 in /usr/local/lib/python3.10/dist-packages (from google-auth<3,>=1.6.3->tensorboard<2.11,>=2.10->tensorflow<=2.10) (4.9)\n",
            "Requirement already satisfied: requests-oauthlib>=0.7.0 in /usr/local/lib/python3.10/dist-packages (from google-auth-oauthlib<0.5,>=0.4.1->tensorboard<2.11,>=2.10->tensorflow<=2.10) (1.3.1)\n",
            "Requirement already satisfied: charset-normalizer<4,>=2 in /usr/local/lib/python3.10/dist-packages (from requests<3,>=2.21.0->tensorboard<2.11,>=2.10->tensorflow<=2.10) (3.3.2)\n",
            "Requirement already satisfied: idna<4,>=2.5 in /usr/local/lib/python3.10/dist-packages (from requests<3,>=2.21.0->tensorboard<2.11,>=2.10->tensorflow<=2.10) (3.10)\n",
            "Requirement already satisfied: urllib3<3,>=1.21.1 in /usr/local/lib/python3.10/dist-packages (from requests<3,>=2.21.0->tensorboard<2.11,>=2.10->tensorflow<=2.10) (2.0.7)\n",
            "Requirement already satisfied: certifi>=2017.4.17 in /usr/local/lib/python3.10/dist-packages (from requests<3,>=2.21.0->tensorboard<2.11,>=2.10->tensorflow<=2.10) (2024.8.30)\n",
            "Requirement already satisfied: MarkupSafe>=2.1.1 in /usr/local/lib/python3.10/dist-packages (from werkzeug>=1.0.1->tensorboard<2.11,>=2.10->tensorflow<=2.10) (2.1.5)\n",
            "Requirement already satisfied: pyasn1<0.7.0,>=0.4.6 in /usr/local/lib/python3.10/dist-packages (from pyasn1-modules>=0.2.1->google-auth<3,>=1.6.3->tensorboard<2.11,>=2.10->tensorflow<=2.10) (0.6.1)\n",
            "Requirement already satisfied: oauthlib>=3.0.0 in /usr/local/lib/python3.10/dist-packages (from requests-oauthlib>=0.7.0->google-auth-oauthlib<0.5,>=0.4.1->tensorboard<2.11,>=2.10->tensorflow<=2.10) (3.2.2)\n"
          ]
        }
      ]
    },
    {
      "cell_type": "code",
      "source": [
        "from google.colab import drive\n",
        "drive.mount('/content/drive')"
      ],
      "metadata": {
        "colab": {
          "base_uri": "https://localhost:8080/"
        },
        "id": "MS-m9KOeXjUK",
        "outputId": "d327788f-47d5-49ed-cee4-fcebf77801f4"
      },
      "execution_count": null,
      "outputs": [
        {
          "output_type": "stream",
          "name": "stdout",
          "text": [
            "Mounted at /content/drive\n"
          ]
        }
      ]
    },
    {
      "cell_type": "code",
      "source": [
        "!mv CVPRW2019_Face_Artifacts/* ./\n",
        "!unzip drive/MyDrive/ckpt_res50.zip\n",
        "!mkdir ckpt_res50\n",
        "!mv model.* ckpt_res50/\n",
        "!mkdir train_imgs\n",
        "!mkdir test_imgs"
      ],
      "metadata": {
        "colab": {
          "base_uri": "https://localhost:8080/"
        },
        "collapsed": true,
        "id": "q3W-xK5uXmAF",
        "outputId": "723c670a-c29a-446f-ddb3-fd44b695fe72"
      },
      "execution_count": null,
      "outputs": [
        {
          "output_type": "stream",
          "name": "stdout",
          "text": [
            "Archive:  drive/MyDrive/ckpt_res50.zip\n",
            " extracting: model.data-00000-of-00001  \n",
            " extracting: model.index             \n",
            " extracting: model.meta              \n"
          ]
        }
      ]
    },
    {
      "cell_type": "code",
      "source": [
        "import os, cv2\n",
        "import numpy as np\n",
        "\n",
        "rng = np.random.default_rng()\n",
        "\n",
        "def sample_frames_from_videos(src, dst, num_frames=5):\n",
        "  vids = os.listdir(src)\n",
        "  for vid in vids:\n",
        "    cap = cv2.VideoCapture(src+vid)\n",
        "    length = int(cap.get(cv2.CAP_PROP_FRAME_COUNT))\n",
        "    frames = sorted(set(rng.choice(length-2, size=num_frames, replace=False)))\n",
        "    for frame in frames:\n",
        "      cap.set(cv2.CAP_PROP_POS_FRAMES, frame)\n",
        "      _, img = cap.read()\n",
        "      cv2.imwrite(dst+f'{vid}_{frame}.jpg', img)"
      ],
      "metadata": {
        "id": "_FmJhFG7Xxjh"
      },
      "execution_count": null,
      "outputs": []
    },
    {
      "cell_type": "code",
      "source": [
        "sample_frames_from_videos('drive/MyDrive/CELEBDF_V2/Real/', 'test_imgs/rC_')\n",
        "sample_frames_from_videos('drive/MyDrive/CELEBDF_V2/Fake/', 'test_imgs/fC_')"
      ],
      "metadata": {
        "id": "kvkPdZaUXyke"
      },
      "execution_count": null,
      "outputs": []
    },
    {
      "cell_type": "code",
      "source": [
        "!cd test_imgs; mv `ls | sort -R | sed -n 1~4p` ../train_imgs/"
      ],
      "metadata": {
        "id": "aXQ-XVDkY0bJ"
      },
      "execution_count": null,
      "outputs": []
    },
    {
      "cell_type": "code",
      "source": [
        "!ls -1 test_imgs | wc -l;\n",
        "!ls -1 train_imgs | wc -l;\n",
        "# ~25%"
      ],
      "metadata": {
        "colab": {
          "base_uri": "https://localhost:8080/"
        },
        "id": "WckMk3IYawYI",
        "outputId": "fe6e7613-0ab2-4f81-ee4c-b00d2dab17e7"
      },
      "execution_count": null,
      "outputs": [
        {
          "output_type": "stream",
          "name": "stdout",
          "text": [
            "382\n",
            "128\n"
          ]
        }
      ]
    },
    {
      "cell_type": "code",
      "source": [
        "!mkdir -p test_imgs/real\n",
        "!mkdir -p test_imgs/fake\n",
        "!mv test_imgs/rC* test_imgs/real/\n",
        "!mv test_imgs/fC* test_imgs/fake/"
      ],
      "metadata": {
        "id": "rgWz9GslbOCE"
      },
      "execution_count": null,
      "outputs": []
    },
    {
      "cell_type": "markdown",
      "source": [
        "# Tests Before Fine-Tuning"
      ],
      "metadata": {
        "id": "lLvn7jT6eoay"
      }
    },
    {
      "cell_type": "code",
      "source": [
        "!python demo.py --input_dir=test_imgs/real > real_results.txt"
      ],
      "metadata": {
        "colab": {
          "base_uri": "https://localhost:8080/"
        },
        "collapsed": true,
        "id": "rPv5if5jblZi",
        "outputId": "fe9c5d16-b961-4646-e042-424ec7653448"
      },
      "execution_count": null,
      "outputs": [
        {
          "output_type": "stream",
          "name": "stdout",
          "text": [
            "2024-09-23 16:36:28.693131: I tensorflow/core/platform/cpu_feature_guard.cc:193] This TensorFlow binary is optimized with oneAPI Deep Neural Network Library (oneDNN) to use the following CPU instructions in performance-critical operations:  AVX2 AVX512F FMA\n",
            "To enable them in other operations, rebuild TensorFlow with the appropriate compiler flags.\n",
            "2024-09-23 16:36:28.877270: W tensorflow/stream_executor/platform/default/dso_loader.cc:64] Could not load dynamic library 'libcudart.so.11.0'; dlerror: libcudart.so.11.0: cannot open shared object file: No such file or directory; LD_LIBRARY_PATH: /usr/lib64-nvidia\n",
            "2024-09-23 16:36:28.877328: I tensorflow/stream_executor/cuda/cudart_stub.cc:29] Ignore above cudart dlerror if you do not have a GPU set up on your machine.\n",
            "2024-09-23 16:36:28.932956: E tensorflow/stream_executor/cuda/cuda_blas.cc:2981] Unable to register cuBLAS factory: Attempting to register factory for plugin cuBLAS when one has already been registered\n",
            "2024-09-23 16:36:29.894123: W tensorflow/stream_executor/platform/default/dso_loader.cc:64] Could not load dynamic library 'libnvinfer.so.7'; dlerror: libnvinfer.so.7: cannot open shared object file: No such file or directory; LD_LIBRARY_PATH: /usr/lib64-nvidia\n",
            "2024-09-23 16:36:29.894246: W tensorflow/stream_executor/platform/default/dso_loader.cc:64] Could not load dynamic library 'libnvinfer_plugin.so.7'; dlerror: libnvinfer_plugin.so.7: cannot open shared object file: No such file or directory; LD_LIBRARY_PATH: /usr/lib64-nvidia\n",
            "2024-09-23 16:36:29.894269: W tensorflow/compiler/tf2tensorrt/utils/py_utils.cc:38] TF-TRT Warning: Cannot dlopen some TensorRT libraries. If you would like to use Nvidia GPU with TensorRT, please make sure the missing libraries mentioned above are installed properly.\n",
            "WARNING:tensorflow:From /usr/local/lib/python3.10/dist-packages/tensorflow/python/compat/v2_compat.py:107: disable_resource_variables (from tensorflow.python.ops.variable_scope) is deprecated and will be removed in a future version.\n",
            "Instructions for updating:\n",
            "non-resource variables are not supported in the long term\n",
            "2024-09-23 16:36:33.616749: I tensorflow/core/platform/cpu_feature_guard.cc:193] This TensorFlow binary is optimized with oneAPI Deep Neural Network Library (oneDNN) to use the following CPU instructions in performance-critical operations:  AVX2 AVX512F FMA\n",
            "To enable them in other operations, rebuild TensorFlow with the appropriate compiler flags.\n",
            "2024-09-23 16:36:33.639924: I tensorflow/stream_executor/cuda/cuda_gpu_executor.cc:980] successful NUMA node read from SysFS had negative value (-1), but there must be at least one NUMA node, so returning NUMA node zero\n",
            "2024-09-23 16:36:33.640379: W tensorflow/stream_executor/platform/default/dso_loader.cc:64] Could not load dynamic library 'libcudart.so.11.0'; dlerror: libcudart.so.11.0: cannot open shared object file: No such file or directory; LD_LIBRARY_PATH: /usr/local/lib/python3.10/dist-packages/cv2/../../lib64:/usr/lib64-nvidia\n",
            "2024-09-23 16:36:33.640539: W tensorflow/stream_executor/platform/default/dso_loader.cc:64] Could not load dynamic library 'libcublas.so.11'; dlerror: libcublas.so.11: cannot open shared object file: No such file or directory; LD_LIBRARY_PATH: /usr/local/lib/python3.10/dist-packages/cv2/../../lib64:/usr/lib64-nvidia\n",
            "2024-09-23 16:36:33.640664: W tensorflow/stream_executor/platform/default/dso_loader.cc:64] Could not load dynamic library 'libcublasLt.so.11'; dlerror: libcublasLt.so.11: cannot open shared object file: No such file or directory; LD_LIBRARY_PATH: /usr/local/lib/python3.10/dist-packages/cv2/../../lib64:/usr/lib64-nvidia\n",
            "2024-09-23 16:36:33.640788: W tensorflow/stream_executor/platform/default/dso_loader.cc:64] Could not load dynamic library 'libcufft.so.10'; dlerror: libcufft.so.10: cannot open shared object file: No such file or directory; LD_LIBRARY_PATH: /usr/local/lib/python3.10/dist-packages/cv2/../../lib64:/usr/lib64-nvidia\n",
            "2024-09-23 16:36:33.641060: W tensorflow/stream_executor/platform/default/dso_loader.cc:64] Could not load dynamic library 'libcusparse.so.11'; dlerror: libcusparse.so.11: cannot open shared object file: No such file or directory; LD_LIBRARY_PATH: /usr/local/lib/python3.10/dist-packages/cv2/../../lib64:/usr/lib64-nvidia\n",
            "2024-09-23 16:36:33.641147: W tensorflow/core/common_runtime/gpu/gpu_device.cc:1934] Cannot dlopen some GPU libraries. Please make sure the missing libraries mentioned above are installed properly if you would like to use GPU. Follow the guide at https://www.tensorflow.org/install/gpu for how to download and setup the required libraries for your platform.\n",
            "Skipping registering GPU devices...\n",
            "/usr/local/lib/python3.10/dist-packages/tensorflow/python/keras/engine/base_layer_v1.py:1694: UserWarning: `layer.apply` is deprecated and will be removed in a future version. Please use `layer.__call__` method instead.\n",
            "  warnings.warn('`layer.apply` is deprecated and '\n",
            "2024-09-23 16:36:36.036259: I tensorflow/compiler/mlir/mlir_graph_optimization_pass.cc:354] MLIR V1 optimization pass is not enabled\n"
          ]
        }
      ]
    },
    {
      "cell_type": "code",
      "source": [
        "!python demo.py --input_dir=test_imgs/fake > fake_results.txt"
      ],
      "metadata": {
        "colab": {
          "base_uri": "https://localhost:8080/"
        },
        "collapsed": true,
        "id": "hqZ4Y2e4cVnM",
        "outputId": "343926dc-a45b-44d0-edd6-b876b29cb9c6"
      },
      "execution_count": null,
      "outputs": [
        {
          "output_type": "stream",
          "name": "stdout",
          "text": [
            "2024-09-23 16:39:25.745184: I tensorflow/core/platform/cpu_feature_guard.cc:193] This TensorFlow binary is optimized with oneAPI Deep Neural Network Library (oneDNN) to use the following CPU instructions in performance-critical operations:  AVX2 AVX512F FMA\n",
            "To enable them in other operations, rebuild TensorFlow with the appropriate compiler flags.\n",
            "2024-09-23 16:39:25.937991: W tensorflow/stream_executor/platform/default/dso_loader.cc:64] Could not load dynamic library 'libcudart.so.11.0'; dlerror: libcudart.so.11.0: cannot open shared object file: No such file or directory; LD_LIBRARY_PATH: /usr/lib64-nvidia\n",
            "2024-09-23 16:39:25.938028: I tensorflow/stream_executor/cuda/cudart_stub.cc:29] Ignore above cudart dlerror if you do not have a GPU set up on your machine.\n",
            "2024-09-23 16:39:25.994012: E tensorflow/stream_executor/cuda/cuda_blas.cc:2981] Unable to register cuBLAS factory: Attempting to register factory for plugin cuBLAS when one has already been registered\n",
            "2024-09-23 16:39:27.103497: W tensorflow/stream_executor/platform/default/dso_loader.cc:64] Could not load dynamic library 'libnvinfer.so.7'; dlerror: libnvinfer.so.7: cannot open shared object file: No such file or directory; LD_LIBRARY_PATH: /usr/lib64-nvidia\n",
            "2024-09-23 16:39:27.103601: W tensorflow/stream_executor/platform/default/dso_loader.cc:64] Could not load dynamic library 'libnvinfer_plugin.so.7'; dlerror: libnvinfer_plugin.so.7: cannot open shared object file: No such file or directory; LD_LIBRARY_PATH: /usr/lib64-nvidia\n",
            "2024-09-23 16:39:27.103621: W tensorflow/compiler/tf2tensorrt/utils/py_utils.cc:38] TF-TRT Warning: Cannot dlopen some TensorRT libraries. If you would like to use Nvidia GPU with TensorRT, please make sure the missing libraries mentioned above are installed properly.\n",
            "WARNING:tensorflow:From /usr/local/lib/python3.10/dist-packages/tensorflow/python/compat/v2_compat.py:107: disable_resource_variables (from tensorflow.python.ops.variable_scope) is deprecated and will be removed in a future version.\n",
            "Instructions for updating:\n",
            "non-resource variables are not supported in the long term\n",
            "2024-09-23 16:39:30.536862: I tensorflow/core/platform/cpu_feature_guard.cc:193] This TensorFlow binary is optimized with oneAPI Deep Neural Network Library (oneDNN) to use the following CPU instructions in performance-critical operations:  AVX2 AVX512F FMA\n",
            "To enable them in other operations, rebuild TensorFlow with the appropriate compiler flags.\n",
            "2024-09-23 16:39:30.559860: I tensorflow/stream_executor/cuda/cuda_gpu_executor.cc:980] successful NUMA node read from SysFS had negative value (-1), but there must be at least one NUMA node, so returning NUMA node zero\n",
            "2024-09-23 16:39:30.560214: W tensorflow/stream_executor/platform/default/dso_loader.cc:64] Could not load dynamic library 'libcudart.so.11.0'; dlerror: libcudart.so.11.0: cannot open shared object file: No such file or directory; LD_LIBRARY_PATH: /usr/local/lib/python3.10/dist-packages/cv2/../../lib64:/usr/lib64-nvidia\n",
            "2024-09-23 16:39:30.560394: W tensorflow/stream_executor/platform/default/dso_loader.cc:64] Could not load dynamic library 'libcublas.so.11'; dlerror: libcublas.so.11: cannot open shared object file: No such file or directory; LD_LIBRARY_PATH: /usr/local/lib/python3.10/dist-packages/cv2/../../lib64:/usr/lib64-nvidia\n",
            "2024-09-23 16:39:30.560516: W tensorflow/stream_executor/platform/default/dso_loader.cc:64] Could not load dynamic library 'libcublasLt.so.11'; dlerror: libcublasLt.so.11: cannot open shared object file: No such file or directory; LD_LIBRARY_PATH: /usr/local/lib/python3.10/dist-packages/cv2/../../lib64:/usr/lib64-nvidia\n",
            "2024-09-23 16:39:30.560642: W tensorflow/stream_executor/platform/default/dso_loader.cc:64] Could not load dynamic library 'libcufft.so.10'; dlerror: libcufft.so.10: cannot open shared object file: No such file or directory; LD_LIBRARY_PATH: /usr/local/lib/python3.10/dist-packages/cv2/../../lib64:/usr/lib64-nvidia\n",
            "2024-09-23 16:39:30.560898: W tensorflow/stream_executor/platform/default/dso_loader.cc:64] Could not load dynamic library 'libcusparse.so.11'; dlerror: libcusparse.so.11: cannot open shared object file: No such file or directory; LD_LIBRARY_PATH: /usr/local/lib/python3.10/dist-packages/cv2/../../lib64:/usr/lib64-nvidia\n",
            "2024-09-23 16:39:30.560993: W tensorflow/core/common_runtime/gpu/gpu_device.cc:1934] Cannot dlopen some GPU libraries. Please make sure the missing libraries mentioned above are installed properly if you would like to use GPU. Follow the guide at https://www.tensorflow.org/install/gpu for how to download and setup the required libraries for your platform.\n",
            "Skipping registering GPU devices...\n",
            "/usr/local/lib/python3.10/dist-packages/tensorflow/python/keras/engine/base_layer_v1.py:1694: UserWarning: `layer.apply` is deprecated and will be removed in a future version. Please use `layer.__call__` method instead.\n",
            "  warnings.warn('`layer.apply` is deprecated and '\n",
            "2024-09-23 16:39:32.528847: I tensorflow/compiler/mlir/mlir_graph_optimization_pass.cc:354] MLIR V1 optimization pass is not enabled\n"
          ]
        }
      ]
    },
    {
      "cell_type": "code",
      "source": [
        "y_true = []\n",
        "y_pred = []\n",
        "with open(\"real_results.txt\", \"r\") as f:\n",
        "  lines = f.readlines()\n",
        "  for line in lines:\n",
        "    if line.startswith(\"Prob:\"):\n",
        "      prob = float(line.split(\" \")[1][:-1])\n",
        "      y_pred.append(prob)\n",
        "      y_true.append(0)\n",
        "with open(\"fake_results.txt\", \"r\") as f:\n",
        "  lines = f.readlines()\n",
        "  for line in lines:\n",
        "    if line.startswith(\"Prob:\"):\n",
        "      prob = float(line.split(\" \")[1][:-1])\n",
        "      y_pred.append(prob)\n",
        "      y_true.append(1)\n",
        "y_true = np.array(y_true)\n",
        "y_pred = np.array(y_pred)"
      ],
      "metadata": {
        "id": "04XFO6TyeKZM"
      },
      "execution_count": null,
      "outputs": []
    },
    {
      "cell_type": "code",
      "source": [
        "import matplotlib.pyplot as plt\n",
        "from sklearn.metrics import (precision_recall_curve, accuracy_score,\n",
        "                             confusion_matrix, roc_auc_score, roc_curve,\n",
        "                             matthews_corrcoef, auc,\n",
        "                             RocCurveDisplay, PrecisionRecallDisplay, auc)\n",
        "\n",
        "precision, recall, thresholds = precision_recall_curve(y_true, y_pred)\n",
        "disp = PrecisionRecallDisplay(precision=precision, recall=recall)\n",
        "disp.plot()\n",
        "plt.show()\n",
        "fscore = (2 * precision * recall) / (precision + recall)\n",
        "ix = np.argmax(fscore)\n",
        "print(\"threshold:\", thresholds[ix])\n",
        "print(\"f-score:\", fscore[ix])\n",
        "print(\"precision:\", recall[ix])\n",
        "print(\"recall:\", precision[ix])\n",
        "\n",
        "print(\"accuracy:\", accuracy_score(y_true, y_pred>thresholds[ix]))\n",
        "\n",
        "fpr, tpr, thresholds = roc_curve(y_true, y_pred)\n",
        "roc_auc = auc(fpr, tpr)\n",
        "display = RocCurveDisplay(fpr=fpr, tpr=tpr, roc_auc=roc_auc)\n",
        "display.plot()\n",
        "plt.show()\n",
        "\n",
        "ix = np.argmax(tpr - fpr)\n",
        "print(\"threshold:\", thresholds[ix])\n",
        "print(\"accuracy:\", accuracy_score(y_true, y_pred>thresholds[ix]))\n",
        "print(\"MCC:\", matthews_corrcoef(y_true, y_pred>thresholds[ix]))"
      ],
      "metadata": {
        "colab": {
          "base_uri": "https://localhost:8080/",
          "height": 1000
        },
        "id": "a14Z-7A0eT9Q",
        "outputId": "a38fccc7-57c6-481c-ab2e-7b218dfe05d8"
      },
      "execution_count": null,
      "outputs": [
        {
          "output_type": "display_data",
          "data": {
            "text/plain": [
              "<Figure size 640x480 with 1 Axes>"
            ],
            "image/png": "[encoded data removed]"
          },
          "metadata": {}
        },
        {
          "output_type": "stream",
          "name": "stdout",
          "text": [
            "threshold: -1.0\n",
            "f-score: 0.7697262479871175\n",
            "precision: 1.0\n",
            "recall: 0.6256544502617801\n",
            "accuracy: 0.5942408376963351\n"
          ]
        },
        {
          "output_type": "display_data",
          "data": {
            "text/plain": [
              "<Figure size 640x480 with 1 Axes>"
            ],
            "image/png": "[encoded data removed]"
          },
          "metadata": {}
        },
        {
          "output_type": "stream",
          "name": "stdout",
          "text": [
            "threshold: 0.3777135\n",
            "accuracy: 0.5235602094240838\n",
            "MCC: 0.11771074114170349\n"
          ]
        }
      ]
    },
    {
      "cell_type": "markdown",
      "source": [
        "# Fine-Tuning"
      ],
      "metadata": {
        "id": "b5kI8-3Qevni"
      }
    },
    {
      "cell_type": "code",
      "execution_count": null,
      "metadata": {
        "colab": {
          "base_uri": "https://localhost:8080/"
        },
        "id": "-OSIfhAfXG6n",
        "outputId": "24766cfe-5d0b-4627-dd6b-05c918d99a90"
      },
      "outputs": [
        {
          "output_type": "stream",
          "name": "stderr",
          "text": [
            "WARNING:tensorflow:From /usr/local/lib/python3.10/dist-packages/tensorflow/python/compat/v2_compat.py:107: disable_resource_variables (from tensorflow.python.ops.variable_scope) is deprecated and will be removed in a future version.\n",
            "Instructions for updating:\n",
            "non-resource variables are not supported in the long term\n"
          ]
        },
        {
          "output_type": "stream",
          "name": "stdout",
          "text": [
            "Aligning faces...\n"
          ]
        },
        {
          "output_type": "stream",
          "name": "stderr",
          "text": [
            "100%|██████████| 128/128 [00:23<00:00,  5.54it/s]\n",
            "/usr/local/lib/python3.10/dist-packages/tensorflow/python/keras/engine/base_layer_v1.py:1694: UserWarning: `layer.apply` is deprecated and will be removed in a future version. Please use `layer.__call__` method instead.\n",
            "  warnings.warn('`layer.apply` is deprecated and '\n",
            "WARNING:tensorflow:From /usr/local/lib/python3.10/dist-packages/keras/layers/normalization/batch_normalization.py:562: _colocate_with (from tensorflow.python.framework.ops) is deprecated and will be removed in a future version.\n",
            "Instructions for updating:\n",
            "Colocations handled automatically by placer.\n"
          ]
        },
        {
          "output_type": "stream",
          "name": "stdout",
          "text": [
            "Loading checkpoint /content/ckpt_res50/model\n",
            "batch index: 0, counting from 0\n",
            "====================================\n",
            "Net loss: 1.9400959014892578\n",
            "Total loss: 2.2302842140197754\n",
            "Real label: [0 0 0 0 0 0 0 1 0 1 0 1 0 0 0 0 1 0 1 1 0 1 0 0 0 1 1 1 1 1 1 1 0 1 0 0 1\n",
            " 1 1 1 1 1 1 1 1 1 1 1 0 0 0 1 1 0 1 0]\n",
            "Pred label: [1 0 1 0 1 0 0 1 1 1 1 1 1 1 0 0 0 1 0 1 0 0 1 1 1 0 1 1 1 1 0 1 1 1 0 0 0\n",
            " 1 0 1 0 1 1 1 1 1 0 1 1 1 0 1 0 0 0 1]\n",
            "epoch: 0, batch_idx: 0\n",
            "batch index: 1, counting from 0\n",
            "====================================\n",
            "Net loss: 1.8216711282730103\n",
            "Total loss: 2.1118593215942383\n",
            "Real label: [1 1 0 0 0 1 1 1 1 0 1 0 1 0 0 0 1 0 0 1 0 1 0 1 1 1 1 1 1 0 1 0 1 1 0 0 0\n",
            " 0 1 0 0 1 1 1 1 1 1 1 1 1 1 1 1 1 0 0]\n",
            "Pred label: [0 0 1 1 1 1 0 1 1 1 1 0 1 0 1 0 0 1 0 1 0 1 1 0 0 1 0 1 0 0 0 1 1 0 0 0 0\n",
            " 0 1 0 1 0 0 0 1 0 1 0 1 0 1 1 1 1 1 0]\n",
            "epoch: 0, batch_idx: 1\n",
            "Model /content/ckpt_res50/model-0 saved in file.\n",
            "batch index: 0, counting from 0\n",
            "====================================\n",
            "Net loss: 1.8830362558364868\n",
            "Total loss: 2.173224449157715\n",
            "Real label: [1 0 1 0 1 1 0 1 0 0 1 0 1 1 0 1 1 1 1 0 0 1 0 0 0 1 0 1 0 1 1 0 0 0 1 1 0\n",
            " 0 1 1 0 1 0 1 1 1 1 1 1 0 1 0 0 1]\n",
            "Pred label: [1 0 0 1 1 0 0 0 0 0 1 0 1 1 0 1 0 0 0 1 1 1 1 0 0 0 1 1 0 1 1 0 1 0 1 1 1\n",
            " 1 1 1 1 1 0 1 0 1 0 0 0 1 1 1 0 1]\n",
            "epoch: 1, batch_idx: 0\n",
            "batch index: 1, counting from 0\n",
            "====================================\n",
            "Net loss: 2.0344033241271973\n",
            "Total loss: 2.324591875076294\n",
            "Real label: [1 1 0 1 1 1 1 1 0 0 0 1 1 1 1 1 1 1 0 0 1 0 0 0 0 1 1 0 0 0 0 1 1 1 0 0 0\n",
            " 1 1 0 1 0 0 1 0 1 1 1 1 0 1 1 0 0 1 1 1 1]\n",
            "Pred label: [1 1 1 0 1 1 1 1 1 0 1 1 1 1 1 0 0 1 1 1 0 0 0 1 1 0 1 1 1 0 1 0 0 0 0 0 1\n",
            " 0 1 0 0 0 0 0 1 1 0 0 0 0 0 1 1 0 1 1 1 0]\n",
            "epoch: 1, batch_idx: 1\n",
            "batch index: 0, counting from 0\n",
            "====================================\n",
            "Net loss: 2.0478711128234863\n",
            "Total loss: 2.338059663772583\n",
            "Real label: [1 1 0 0 1 1 0 0 0 0 1 0 1 1 1 0 1 1 0 0 0 0 1 1 1 1 0 0 0 1 1 1 1 0 0 1 0\n",
            " 0 1 1 1 0 0 1 0 1 0 1 0 0 1 0 1 1 0 0 1 1 0 0]\n",
            "Pred label: [0 1 1 0 0 1 0 1 0 0 0 0 1 1 0 0 1 0 0 0 0 0 0 1 1 1 1 0 1 0 1 1 0 0 1 1 0\n",
            " 1 1 0 0 1 1 0 1 0 1 1 0 1 0 1 0 1 1 0 1 1 0 1]\n",
            "epoch: 2, batch_idx: 0\n",
            "batch index: 1, counting from 0\n",
            "====================================\n",
            "Net loss: 1.7540767192840576\n",
            "Total loss: 2.044264793395996\n",
            "Real label: [1 1 1 0 1 0 1 1 1 1 1 1 1 0 1 1 0 0 0 0 1 0 1 1 1 0 0 1 1 0 1 0 1 1 0 0 1\n",
            " 1 0 1 0 1 1 0 1 1 1 1 1 0 1 1]\n",
            "Pred label: [0 0 0 1 0 0 0 1 1 0 0 0 1 1 0 1 0 0 0 1 1 1 1 1 1 1 0 1 0 0 1 1 1 0 0 1 0\n",
            " 1 1 1 0 1 0 0 1 1 0 1 0 1 0 1]\n",
            "epoch: 2, batch_idx: 1\n",
            "Model /content/ckpt_res50/model-2 saved in file.\n",
            "batch index: 0, counting from 0\n",
            "====================================\n",
            "Net loss: 1.8772987127304077\n",
            "Total loss: 2.1674869060516357\n",
            "Real label: [1 1 1 1 1 0 0 0 1 0 0 1 1 1 1 1 1 0 1 1 0 1 0 0 1 1 0 1 0 1 1 1 1 0 0 0 0\n",
            " 1 0 1 0 0 1 1 1 1 0 0 1 1 0 0 1 0 1 0 1]\n",
            "Pred label: [0 0 0 0 1 0 1 1 0 0 0 1 1 1 1 1 0 1 1 0 0 1 0 1 1 1 1 0 1 1 1 0 0 0 1 0 0\n",
            " 0 1 1 0 1 0 1 0 0 1 0 1 0 1 0 0 1 1 1 0]\n",
            "epoch: 3, batch_idx: 0\n",
            "batch index: 1, counting from 0\n",
            "====================================\n",
            "Net loss: 1.8459018468856812\n",
            "Total loss: 2.136090040206909\n",
            "Real label: [1 0 1 0 0 1 1 1 0 1 1 1 0 0 0 1 1 0 1 0 0 1 0 1 0 1 0 1 1 0 0 0 1 1 0 1 1\n",
            " 1 1 1 1 1 0 1 0 1 0 1 1 1 1 0 0 0 0]\n",
            "Pred label: [1 1 1 0 0 1 1 0 1 0 1 1 0 1 0 0 1 0 0 1 0 1 0 0 0 0 0 1 0 1 0 1 1 0 1 0 1\n",
            " 0 0 1 1 1 0 1 1 1 0 0 1 1 0 0 0 0 1]\n",
            "epoch: 3, batch_idx: 1\n",
            "batch index: 0, counting from 0\n",
            "====================================\n",
            "Net loss: 1.4950555562973022\n",
            "Total loss: 1.7852436304092407\n",
            "Real label: [0 1 1 1 1 1 1 1 0 1 0 0 1 0 1 0 0 0 0 0 1 1 1 1 0 0 0 1 1 0 1 1 1 0 0 1 1\n",
            " 0 1 0 1 0 0 0 1 1 1 1 0 0 0 0 1 1 0]\n",
            "Pred label: [0 0 0 1 0 1 1 1 0 1 1 0 1 1 1 0 0 0 1 1 0 1 0 1 0 0 0 0 1 0 0 1 0 0 1 0 1\n",
            " 1 0 0 0 0 1 0 1 1 1 0 0 0 1 1 1 0 1]\n",
            "epoch: 4, batch_idx: 0\n",
            "batch index: 1, counting from 0\n",
            "====================================\n",
            "Net loss: 2.320214033126831\n",
            "Total loss: 2.6104025840759277\n",
            "Real label: [1 1 1 0 1 1 1 0 1 1 1 1 1 1 0 1 1 1 1 1 1 1 1 1 0 1 0 0 0 0 0 0 1 0 0 1 1\n",
            " 0 0 0 1 0 1 1 0 1 1 0 0 1 1 0 1 0 1 0 1]\n",
            "Pred label: [1 0 0 0 1 1 1 0 0 1 1 0 1 0 1 1 0 0 1 0 1 0 0 1 0 1 0 0 1 1 1 1 0 1 0 0 1\n",
            " 0 0 1 0 1 1 0 1 1 0 0 1 0 1 0 1 1 1 1 0]\n",
            "epoch: 4, batch_idx: 1\n",
            "Model /content/ckpt_res50/model-4 saved in file.\n",
            "batch index: 0, counting from 0\n",
            "====================================\n",
            "Net loss: 1.7864902019500732\n",
            "Total loss: 2.0766782760620117\n",
            "Real label: [0 0 0 1 1 1 1 0 1 0 0 1 1 0 1 0 1 1 1 1 1 1 0 1 0 0 0 0 1 0 0 0 1 1 1 1 1\n",
            " 1 1 1 0 0 1 0 1 0 0 1 1 1 1 0 1 1 0 1]\n",
            "Pred label: [1 0 0 0 1 0 0 1 1 1 1 0 0 1 0 0 0 1 1 1 1 1 0 0 0 1 1 0 0 1 0 0 1 1 1 1 1\n",
            " 1 0 1 0 1 0 1 0 0 0 1 0 1 1 0 0 0 0 0]\n",
            "epoch: 5, batch_idx: 0\n",
            "batch index: 1, counting from 0\n",
            "====================================\n",
            "Net loss: 1.6614134311676025\n",
            "Total loss: 1.951601505279541\n",
            "Real label: [1 1 1 1 1 1 0 0 1 1 0 1 0 1 1 0 0 1 1 0 1 0 1 0 1 0 1 1 0 1 1 0 0 0 1 0 1\n",
            " 0 0 0 0 1 0 0 1 1 1 0 0 1 1 1 0 0 1 1]\n",
            "Pred label: [1 1 0 0 1 1 1 1 1 0 0 0 1 1 0 0 0 0 0 0 1 1 0 0 0 0 0 1 0 0 1 0 0 1 0 1 0\n",
            " 1 1 1 0 1 1 1 0 0 1 0 0 1 1 1 1 0 1 1]\n",
            "epoch: 5, batch_idx: 1\n",
            "batch index: 0, counting from 0\n",
            "====================================\n",
            "Net loss: 1.8634406328201294\n",
            "Total loss: 2.1536288261413574\n",
            "Real label: [0 1 0 0 1 0 1 1 0 1 1 0 0 1 1 0 0 1 0 0 1 1 1 1 0 0 1 1 1 1 1 0 1 0 1 0 0\n",
            " 0 0 0 1 0 1 1 1 1 0 1 1 1 1 1 1 1 1 1 0 0 1 0]\n",
            "Pred label: [1 1 1 1 1 1 1 0 1 1 1 1 1 1 0 0 1 1 1 0 1 1 0 1 0 1 0 0 1 0 0 0 1 0 0 0 1\n",
            " 1 1 0 0 0 0 1 1 1 1 1 0 0 0 1 0 1 0 0 0 0 0 1]\n",
            "epoch: 6, batch_idx: 0\n",
            "batch index: 1, counting from 0\n",
            "====================================\n",
            "Net loss: 2.101137638092041\n",
            "Total loss: 2.3913261890411377\n",
            "Real label: [0 0 1 0 0 1 1 1 1 0 0 0 1 1 1 0 0 1 0 1 1 1 1 0 0 1 0 0 1 1 0 1 1 1 1 1 0\n",
            " 0 0 1 1 0 1 0 1 0 0 1 1 1 0 1]\n",
            "Pred label: [1 0 0 0 0 1 1 0 1 0 1 0 1 1 0 1 0 0 1 0 1 1 0 1 0 0 1 0 0 0 1 1 1 1 1 1 1\n",
            " 0 1 0 1 1 1 0 1 0 1 0 0 1 1 0]\n",
            "epoch: 6, batch_idx: 1\n",
            "Model /content/ckpt_res50/model-6 saved in file.\n",
            "batch index: 0, counting from 0\n",
            "====================================\n",
            "Net loss: 2.360851526260376\n",
            "Total loss: 2.6510400772094727\n",
            "Real label: [0 0 0 1 1 1 0 0 1 1 0 0 1 1 1 0 1 1 1 1 0 0 1 0 1 1 0 0 1 1 1 0 1 0 1 0 0\n",
            " 1 1 1 0 1 0 1 1 0 0 1 1 1 1 0 0 1 1 1]\n",
            "Pred label: [0 0 1 1 0 0 1 0 0 1 1 1 0 0 1 0 1 0 1 1 0 1 0 0 1 1 0 1 1 1 1 0 0 1 0 1 0\n",
            " 0 1 0 0 0 1 0 1 1 0 1 1 1 0 0 1 1 0 1]\n",
            "epoch: 7, batch_idx: 0\n",
            "batch index: 1, counting from 0\n",
            "====================================\n",
            "Net loss: 1.6632376909255981\n",
            "Total loss: 1.9534257650375366\n",
            "Real label: [0 1 0 0 1 0 1 1 1 0 1 0 0 1 0 1 1 0 1 1 1 1 1 0 0 1 1 1 1 1 1 0 1 1 1 1 0\n",
            " 0 0 1 0 1 0 0 0 0 0 1 0 0 1 1 1 1 0 0]\n",
            "Pred label: [0 0 0 1 1 0 1 1 1 0 1 0 0 1 1 0 0 1 1 1 0 1 0 0 1 1 0 0 1 0 1 1 0 1 1 0 0\n",
            " 1 0 1 1 0 0 0 0 1 0 0 1 0 1 1 1 1 1 1]\n",
            "epoch: 7, batch_idx: 1\n",
            "batch index: 0, counting from 0\n",
            "====================================\n",
            "Net loss: 2.0186820030212402\n",
            "Total loss: 2.308870553970337\n",
            "Real label: [0 0 0 1 1 1 0 0 0 0 1 1 1 1 0 0 1 0 0 0 1 0 1 0 0 1 0 0 1 1 0 0 1 1 1 1 0\n",
            " 0 1 0 0 0 0 1 1 1 1 1 1 1 1 1 0 0 1]\n",
            "Pred label: [1 0 0 0 1 0 0 0 1 1 1 1 1 1 0 0 1 1 1 1 0 0 0 1 0 0 1 1 0 1 1 0 1 0 0 1 1\n",
            " 0 1 1 1 0 1 0 1 1 0 0 0 1 1 1 0 1 0]\n",
            "epoch: 8, batch_idx: 0\n",
            "batch index: 1, counting from 0\n",
            "====================================\n",
            "Net loss: 1.752375602722168\n",
            "Total loss: 2.0425636768341064\n",
            "Real label: [1 0 1 1 0 1 1 0 0 0 1 0 1 1 0 0 1 0 1 1 1 0 0 1 1 1 0 1 0 0 1 1 0 1 0 0 1\n",
            " 1 1 1 1 1 0 1 1 1 1 1 1 1 1 0 0 1 1 0 1]\n",
            "Pred label: [1 1 1 0 0 1 0 0 0 1 1 0 1 1 0 1 0 0 1 1 1 1 0 0 1 1 1 1 1 1 1 0 1 0 1 1 0\n",
            " 0 0 0 1 1 1 1 1 1 0 0 0 0 0 1 1 0 0 0 1]\n",
            "epoch: 8, batch_idx: 1\n",
            "Model /content/ckpt_res50/model-8 saved in file.\n",
            "batch index: 0, counting from 0\n",
            "====================================\n",
            "Net loss: 1.5897103548049927\n",
            "Total loss: 1.8798984289169312\n",
            "Real label: [1 1 1 0 1 1 0 1 1 1 0 0 1 1 1 1 0 0 0 0 0 1 0 1 1 1 1 0 0 0 0 1 0 1 1 0 1\n",
            " 0 0 0 1 1 1 0 0 0 0 1 0 1 0 1 0 1]\n",
            "Pred label: [0 0 1 0 1 1 1 0 0 0 0 0 1 1 1 0 1 1 1 0 0 1 1 0 0 1 0 0 0 1 0 1 1 1 1 1 1\n",
            " 0 0 1 1 1 0 0 0 1 1 1 0 1 0 1 0 0]\n",
            "epoch: 9, batch_idx: 0\n",
            "batch index: 1, counting from 0\n",
            "====================================\n",
            "Net loss: 1.9825798273086548\n",
            "Total loss: 2.272768259048462\n",
            "Real label: [0 1 1 1 0 0 0 0 0 0 0 1 1 1 0 0 1 1 1 1 0 0 1 1 1 0 1 1 1 0 1 1 0 1 0 1 1\n",
            " 1 1 1 1 1 1 0 0 1 1 1 0 1 1 1 1 1 1 0 0 0]\n",
            "Pred label: [1 0 1 1 1 1 1 0 1 0 0 1 1 1 1 0 1 0 0 0 0 1 1 1 1 0 0 0 0 1 1 0 1 1 0 1 0\n",
            " 0 0 1 0 0 1 1 0 1 0 0 1 0 1 1 0 1 1 0 0 0]\n",
            "epoch: 9, batch_idx: 1\n",
            "batch index: 0, counting from 0\n",
            "====================================\n",
            "Net loss: 2.0672879219055176\n",
            "Total loss: 2.3574764728546143\n",
            "Real label: [0 1 0 1 1 0 0 1 1 0 0 0 1 0 1 0 1 0 1 0 0 0 1 0 0 1 1 0 1 1 1 0 1 1 1 1 0\n",
            " 0 1 0 0 1 0 0 1 1 1 1 1 1 1 0 0 1 1 1 1]\n",
            "Pred label: [0 0 0 0 1 1 1 1 1 1 0 1 0 0 0 1 0 0 0 0 0 1 1 1 1 0 1 0 1 0 0 0 1 1 0 1 0\n",
            " 0 0 0 1 1 1 0 0 1 0 0 1 0 1 1 1 0 0 0 1]\n",
            "epoch: 10, batch_idx: 0\n",
            "batch index: 1, counting from 0\n"
          ]
        },
        {
          "output_type": "stream",
          "name": "stderr",
          "text": [
            "WARNING:tensorflow:From /usr/local/lib/python3.10/dist-packages/tensorflow/python/training/saver.py:1064: remove_checkpoint (from tensorflow.python.checkpoint.checkpoint_management) is deprecated and will be removed in a future version.\n",
            "Instructions for updating:\n",
            "Use standard file APIs to delete files with this prefix.\n"
          ]
        },
        {
          "output_type": "stream",
          "name": "stdout",
          "text": [
            "====================================\n",
            "Net loss: 1.6907985210418701\n",
            "Total loss: 1.9809865951538086\n",
            "Real label: [1 1 1 1 1 1 0 1 0 1 0 0 0 0 1 1 1 1 0 1 0 0 1 0 1 1 1 0 0 1 0 1 1 1 1 1 0\n",
            " 0 0 1 0 1 1 0 1 0 1 1 1 0 0 0 1 0 1]\n",
            "Pred label: [1 1 0 1 1 0 0 0 0 0 1 0 1 1 0 0 1 0 0 0 1 1 1 1 1 0 1 0 0 1 1 1 0 1 1 1 1\n",
            " 0 0 1 0 1 0 1 1 1 0 0 1 0 0 1 0 1 0]\n",
            "epoch: 10, batch_idx: 1\n",
            "Model /content/ckpt_res50/model-10 saved in file.\n",
            "batch index: 0, counting from 0\n",
            "====================================\n",
            "Net loss: 2.221557140350342\n",
            "Total loss: 2.5117456912994385\n",
            "Real label: [1 0 1 0 1 0 1 0 1 1 1 1 0 0 0 0 0 1 1 0 1 0 0 0 1 0 1 1 1 1 1 1 1 1 0 0 1\n",
            " 0 1 0 1 0 0 1 1 0 0 1 1 1 0 1 1 1 1 0 1 0]\n",
            "Pred label: [1 0 1 1 0 1 1 0 0 1 1 1 1 1 1 1 0 0 0 1 1 1 0 1 1 0 1 0 0 0 1 0 1 0 1 1 0\n",
            " 0 1 1 1 0 0 0 0 0 1 1 0 0 1 1 1 1 1 1 1 0]\n",
            "epoch: 11, batch_idx: 0\n",
            "batch index: 1, counting from 0\n",
            "====================================\n",
            "Net loss: 1.6430996656417847\n",
            "Total loss: 1.9332877397537231\n",
            "Real label: [0 0 0 0 1 1 0 1 1 1 1 1 1 0 0 0 1 0 1 0 1 1 1 1 1 1 1 0 1 0 0 1 1 1 0 1 0\n",
            " 0 0 0 0 1 1 0 0 1 1 1 1 1 0 0 1 1]\n",
            "Pred label: [0 0 0 1 1 1 0 0 0 1 1 0 1 0 0 1 1 0 1 1 0 0 0 0 0 1 1 0 1 0 1 0 1 0 1 1 0\n",
            " 1 1 1 0 0 1 0 0 0 1 0 1 1 1 1 1 1]\n",
            "epoch: 11, batch_idx: 1\n",
            "batch index: 0, counting from 0\n",
            "====================================\n",
            "Net loss: 2.300170660018921\n",
            "Total loss: 2.5903592109680176\n",
            "Real label: [1 0 1 1 1 1 0 0 0 1 1 0 1 1 1 1 0 1 1 1 1 0 1 1 0 0 0 1 1 0 0 0 1 0 1 1 1\n",
            " 1 0 0 1 0 1 1 0 0 1 0 0 0 1 1 1 0 1]\n",
            "Pred label: [0 1 1 1 0 1 1 1 1 1 1 1 1 0 0 0 1 1 1 1 0 0 1 0 0 0 1 0 0 0 1 1 1 1 0 1 1\n",
            " 1 1 1 0 1 0 0 1 0 1 1 0 0 1 0 0 1 0]\n",
            "epoch: 12, batch_idx: 0\n",
            "batch index: 1, counting from 0\n",
            "====================================\n",
            "Net loss: 1.4088948965072632\n",
            "Total loss: 1.6990829706192017\n",
            "Real label: [0 0 0 0 0 0 1 1 1 0 0 0 1 1 0 0 0 1 1 1 0 0 0 0 0 1 1 1 1 1 1 1 1 1 1 1 0\n",
            " 0 1 0 1 0 1 1 1 0 1 1 1 1 0 1 1 0 1 1 0]\n",
            "Pred label: [0 0 1 0 1 0 0 0 1 1 0 1 0 1 0 0 0 1 1 0 1 0 1 0 0 1 0 0 1 1 1 0 1 0 1 0 1\n",
            " 1 1 0 1 0 1 0 1 1 0 1 1 0 0 1 0 1 0 1 1]\n",
            "epoch: 12, batch_idx: 1\n",
            "Model /content/ckpt_res50/model-12 saved in file.\n",
            "batch index: 0, counting from 0\n",
            "====================================\n",
            "Net loss: 1.74595308303833\n",
            "Total loss: 2.0361411571502686\n",
            "Real label: [1 0 1 1 1 0 1 1 1 1 1 0 0 0 1 1 1 0 0 1 1 0 1 1 0 1 1 1 1 0 0 1 1 1 1 1 1\n",
            " 0 1 0 1 1 1 1 1 1 0 0 0 1 1 1 0 0]\n",
            "Pred label: [0 0 1 0 1 1 0 0 1 1 0 1 0 1 1 0 0 0 1 0 1 0 1 1 0 0 0 1 1 0 1 0 0 1 0 1 1\n",
            " 1 0 0 1 1 1 1 0 1 1 1 1 1 1 0 0 1]\n",
            "epoch: 13, batch_idx: 0\n",
            "batch index: 1, counting from 0\n",
            "====================================\n",
            "Net loss: 2.242647171020508\n",
            "Total loss: 2.5328357219696045\n",
            "Real label: [1 0 0 1 1 1 1 0 0 1 0 0 1 0 0 1 1 0 0 0 1 1 1 1 0 1 1 0 0 0 1 1 1 0 0 0 0\n",
            " 0 1 0 1 0 0 1 0 1 0 1 1 1 0 0 0 1 1 0 1 0]\n",
            "Pred label: [0 1 0 1 0 0 0 1 0 1 1 0 1 1 0 1 1 0 1 1 0 1 1 0 0 0 0 1 1 1 0 1 0 1 1 1 1\n",
            " 0 1 0 0 0 1 1 0 0 1 1 1 1 1 1 1 1 1 0 1 1]\n",
            "epoch: 13, batch_idx: 1\n",
            "batch index: 0, counting from 0\n",
            "====================================\n",
            "Net loss: 1.9274746179580688\n",
            "Total loss: 2.217662811279297\n",
            "Real label: [1 0 0 1 0 1 1 0 1 1 1 0 0 1 1 1 1 0 0 1 0 0 1 0 1 0 1 1 0 0 0 1 1 0 0 1 1\n",
            " 1 1 0 1 1 0 0 1 1 1 1 0 1 1 0 0 1 0 0 1]\n",
            "Pred label: [1 1 0 0 0 0 1 1 0 1 1 0 0 1 1 0 1 0 0 1 1 1 1 1 0 1 0 1 1 0 0 0 0 0 1 0 0\n",
            " 0 0 1 0 1 0 1 1 0 1 1 1 0 1 1 1 0 0 1 1]\n",
            "epoch: 14, batch_idx: 0\n",
            "batch index: 1, counting from 0\n",
            "====================================\n",
            "Net loss: 2.0491998195648193\n",
            "Total loss: 2.339388370513916\n",
            "Real label: [0 0 1 1 1 1 1 1 0 1 0 1 0 1 0 0 1 1 0 0 1 0 1 0 1 1 1 0 0 1 0 1 1 1 1 0 1\n",
            " 0 1 0 0 1 1 0 1 1 1 0 1 0 1 0 0 1 1]\n",
            "Pred label: [0 1 1 1 1 0 0 0 0 0 1 1 0 1 1 0 1 0 1 0 1 1 1 1 1 1 1 0 0 0 0 0 0 0 0 1 1\n",
            " 0 1 0 1 1 1 0 1 0 0 1 0 0 1 1 0 1 1]\n",
            "epoch: 14, batch_idx: 1\n",
            "Model /content/ckpt_res50/model-14 saved in file.\n",
            "batch index: 0, counting from 0\n",
            "====================================\n",
            "Net loss: 1.6293808221817017\n",
            "Total loss: 1.9195688962936401\n",
            "Real label: [1 0 0 0 1 0 1 1 1 1 0 1 1 1 0 1 1 0 0 0 1 0 0 1 1 0 0 0 1 0 1 1 1 0 0 1 0\n",
            " 1 0 0 1 1 1 0 0 1 1 1 0 0 1 0 1 1 0]\n",
            "Pred label: [1 0 0 1 0 0 1 0 1 1 0 0 1 1 1 1 0 1 1 0 0 0 0 1 1 0 0 0 1 1 1 0 0 0 1 1 1\n",
            " 0 1 1 0 1 1 0 0 0 0 1 1 1 1 0 1 0 0]\n",
            "epoch: 15, batch_idx: 0\n",
            "batch index: 1, counting from 0\n",
            "====================================\n",
            "Net loss: 1.7858716249465942\n",
            "Total loss: 2.0760598182678223\n",
            "Real label: [1 1 0 1 1 1 1 1 1 1 1 0 1 1 1 1 0 1 1 0 1 1 1 1 1 0 0 0 0 0 0 0 1 0 0 0 1\n",
            " 0 0 0 1 1 0 1 1 1 1 1 1 1 1 0 1 0 1 0 0]\n",
            "Pred label: [1 1 0 0 0 1 1 0 0 1 0 1 0 1 0 1 1 0 1 0 1 0 1 1 1 1 0 1 0 0 0 1 0 1 0 0 0\n",
            " 1 1 1 0 1 0 0 0 1 0 0 0 1 1 0 0 0 1 1 1]\n",
            "epoch: 15, batch_idx: 1\n",
            "batch index: 0, counting from 0\n",
            "====================================\n",
            "Net loss: 2.217207193374634\n",
            "Total loss: 2.5073957443237305\n",
            "Real label: [0 1 0 0 0 1 1 0 0 1 0 0 0 1 1 0 1 0 0 0 1 1 0 1 1 1 1 1 1 1 1 0 0 1 0 1 1\n",
            " 1 0 0 1 0 1 1 1 1 0 1 0 1 0 0 1 1 1 0]\n",
            "Pred label: [1 0 1 1 1 1 0 1 1 0 1 1 0 0 1 0 1 0 0 1 1 1 1 1 0 0 1 1 0 0 0 0 0 0 1 1 0\n",
            " 1 1 0 0 1 0 0 1 0 1 0 1 1 0 1 1 1 0 1]\n",
            "epoch: 16, batch_idx: 0\n",
            "batch index: 1, counting from 0\n",
            "====================================\n",
            "Net loss: 1.9064581394195557\n",
            "Total loss: 2.1966464519500732\n",
            "Real label: [1 1 0 0 0 1 1 1 0 1 1 1 1 0 0 1 1 1 1 0 1 0 1 1 0 0 1 0 1 1 1 1 0 1 1 1 0\n",
            " 0 0 0 1 1 0 0 1 0 0 1 0 1 1 0 0 1 1 1]\n",
            "Pred label: [1 1 1 0 0 0 0 0 1 1 0 1 1 0 0 1 1 0 1 1 0 0 1 0 0 1 1 0 1 1 1 1 0 1 1 1 0\n",
            " 0 0 1 0 0 0 1 1 1 0 0 0 0 1 1 1 0 0 1]\n",
            "epoch: 16, batch_idx: 1\n",
            "Model /content/ckpt_res50/model-16 saved in file.\n",
            "batch index: 0, counting from 0\n",
            "====================================\n",
            "Net loss: 1.6663979291915894\n",
            "Total loss: 1.9565860033035278\n",
            "Real label: [0 0 1 0 1 0 0 1 1 1 1 1 1 1 1 1 1 1 0 1 1 0 0 0 0 0 1 1 1 0 1 1 0 1 0 0 1\n",
            " 1 1 0 1 0 1 0 0 0 1 1 0 0 0 1 0 0]\n",
            "Pred label: [0 1 1 1 0 0 1 1 1 1 0 1 0 0 1 0 1 1 0 0 1 1 1 0 1 0 1 0 0 0 0 1 1 1 1 0 1\n",
            " 0 0 0 1 1 1 0 1 1 1 0 0 1 0 0 1 0]\n",
            "epoch: 17, batch_idx: 0\n",
            "batch index: 1, counting from 0\n",
            "====================================\n",
            "Net loss: 1.9971283674240112\n",
            "Total loss: 2.2873165607452393\n",
            "Real label: [0 1 1 1 1 0 1 1 1 0 1 1 1 1 0 1 1 1 0 0 1 0 1 1 0 0 0 1 1 0 0 1 0 0 0 1 0\n",
            " 1 1 1 1 1 1 1 0 1 0 1 0 0 1 1 1 0 1 0 1 0]\n",
            "Pred label: [1 1 0 1 1 1 0 1 1 1 1 1 1 0 1 0 0 0 1 0 0 1 0 0 1 1 1 0 1 0 0 1 0 0 1 1 0\n",
            " 0 0 1 1 1 0 1 0 1 1 0 0 0 1 1 0 0 1 1 1 0]\n",
            "epoch: 17, batch_idx: 1\n",
            "batch index: 0, counting from 0\n",
            "====================================\n",
            "Net loss: 1.9175344705581665\n",
            "Total loss: 2.2077226638793945\n",
            "Real label: [1 1 0 1 0 1 1 1 0 1 0 1 0 1 1 0 1 0 0 1 0 0 0 0 0 1 1 1 1 0 1 1 1 1 1 1 0\n",
            " 1 0 0 1 0 1 1 0 1 1 1 1 1 0 0 0 1 1 0 0 0 0]\n",
            "Pred label: [0 0 1 1 0 1 1 1 0 1 0 0 0 1 0 0 1 0 1 0 0 0 1 0 1 1 1 0 1 0 1 1 0 0 0 1 1\n",
            " 1 0 1 1 1 0 1 0 0 1 1 0 0 0 1 1 0 0 1 0 0 0]\n",
            "epoch: 18, batch_idx: 0\n",
            "batch index: 1, counting from 0\n",
            "====================================\n",
            "Net loss: 2.073882579803467\n",
            "Total loss: 2.3640711307525635\n",
            "Real label: [1 0 1 0 1 0 1 1 1 0 1 0 0 0 0 0 1 1 1 0 1 1 1 1 1 1 1 1 1 0 1 1 1 0 0 0 1\n",
            " 0 1 0 0 1 0 0 0 0 1 1 0 1 1 1 1]\n",
            "Pred label: [1 1 0 1 1 1 1 0 0 0 0 0 0 1 1 0 1 0 1 0 0 0 1 1 0 0 1 1 0 1 1 1 1 1 1 0 1\n",
            " 1 1 1 1 1 0 0 1 1 1 0 1 1 0 0 1]\n",
            "epoch: 18, batch_idx: 1\n",
            "Model /content/ckpt_res50/model-18 saved in file.\n",
            "batch index: 0, counting from 0\n",
            "====================================\n",
            "Net loss: 1.8306959867477417\n",
            "Total loss: 2.1208841800689697\n",
            "Real label: [1 0 1 1 0 1 0 0 0 1 0 0 0 1 1 1 0 0 0 1 0 1 1 0 0 1 0 0 0 0 1 1 0 0 1 1 1\n",
            " 1 1 1 1 1 0 1 1 1 0 1 0 0 0 1 1]\n",
            "Pred label: [1 0 1 0 0 1 1 1 1 0 1 0 0 1 0 1 1 0 0 1 0 1 0 1 1 1 1 0 0 0 1 0 0 0 0 1 0\n",
            " 1 1 1 1 0 0 1 1 0 1 0 0 1 1 0 0]\n",
            "epoch: 19, batch_idx: 0\n",
            "batch index: 1, counting from 0\n",
            "====================================\n",
            "Net loss: 1.702863097190857\n",
            "Total loss: 1.9930511713027954\n",
            "Real label: [0 1 1 1 1 1 0 0 0 1 0 1 1 0 1 1 1 1 1 1 0 0 1 1 0 0 0 0 0 0 1 1 0 1 0 1 1\n",
            " 0 0 1 1 1 1 1 1 1 0 0 1 0 1 1 0 1 1 1 1 1 0]\n",
            "Pred label: [1 1 1 0 0 1 0 1 1 1 0 0 1 0 1 0 1 1 1 0 1 1 1 0 1 0 0 1 0 1 0 0 1 1 1 0 1\n",
            " 0 0 1 1 1 0 1 1 0 0 0 1 0 1 1 1 1 0 0 0 0 1]\n",
            "epoch: 19, batch_idx: 1\n"
          ]
        }
      ],
      "source": [
        "import tensorflow.compat.v1 as tf\n",
        "tf.disable_v2_behavior()\n",
        "from data_proc_train import DataProcTrain\n",
        "from resolution_network import ResoNet\n",
        "from solver import Solver\n",
        "from easydict import EasyDict as edict\n",
        "import yaml, numpy as np\n",
        "\n",
        "\n",
        "cfg_file = 'cfgs/res50.yml'\n",
        "with open(cfg_file, 'r') as f:\n",
        "    cfg = edict(yaml.safe_load(f))\n",
        "\n",
        "data_gen = DataProcTrain(\n",
        "    face_img_dir=\"train_imgs\",\n",
        "    cache_path=\"landmarks.p\",\n",
        "    batch_size=cfg.TRAIN.BATCH_SIZE,\n",
        "    is_shuffle=True)\n",
        "\n",
        "tfconfig = tf.ConfigProto(allow_soft_placement=True)\n",
        "tfconfig.gpu_options.allow_growth=True\n",
        "cfg.TRAIN.DECAY_STEP = data_gen.batch_num\n",
        "epoch = cfg.TRAIN.NUM_EPOCH\n",
        "\n",
        "with tf.compat.v1.Session() as sess:\n",
        "    reso_net = ResoNet(cfg=cfg, is_train=True)\n",
        "    reso_net.build()\n",
        "    solver = Solver(sess=sess, cfg=cfg, net=reso_net)\n",
        "    solver.init()\n",
        "    count = 0\n",
        "    for epoch_id in range(epoch):\n",
        "        for i in range(data_gen.batch_num):\n",
        "            data = data_gen.get_batch(i, resize=cfg.IMG_SIZE[:2])\n",
        "            images = data['images']\n",
        "            labels = data['images_label']\n",
        "            # ims_tmp = vis_im(images, 'tmp/vis.jpg')\n",
        "            # summary, prob, net_loss, total_loss, weights = solver.train(images, labels)\n",
        "            summary, prob, net_loss, total_loss = solver.train(images, labels)\n",
        "            pred_labels = np.argmax(prob, axis=1)\n",
        "            print('====================================')\n",
        "            print('Net loss: {}'.format(net_loss))\n",
        "            print('Total loss: {}'.format(total_loss))\n",
        "            print('Real label: {}'.format(np.array(labels)))\n",
        "            print('Pred label: {}'.format(pred_labels))\n",
        "            # print('Neg hard mining: {}'.format(weights))\n",
        "            print('epoch: {}, batch_idx: {}'.format(epoch_id, i))\n",
        "            # if count % 100 == 0:\n",
        "            #     solver.writer.add_summary(summary, count)\n",
        "            # count += 1\n",
        "\n",
        "        if epoch_id % 2 == 0:\n",
        "            solver.save(epoch_id)"
      ]
    },
    {
      "cell_type": "markdown",
      "source": [
        "# Tests After Fine-Tuning"
      ],
      "metadata": {
        "id": "Jvtnm6qolZ3B"
      }
    },
    {
      "cell_type": "code",
      "source": [
        "# Change model name in cfg file"
      ],
      "metadata": {
        "id": "XxnVYfXnlhcu"
      },
      "execution_count": null,
      "outputs": []
    },
    {
      "cell_type": "code",
      "source": [
        "!python demo.py --input_dir=test_imgs/real > real_results.txt"
      ],
      "metadata": {
        "colab": {
          "base_uri": "https://localhost:8080/"
        },
        "collapsed": true,
        "id": "lLEFNosPlqaN",
        "outputId": "32bf1f4b-6a6d-49c5-86a0-ea076364aa34"
      },
      "execution_count": null,
      "outputs": [
        {
          "output_type": "stream",
          "name": "stdout",
          "text": [
            "2024-09-23 16:25:47.879662: I tensorflow/core/platform/cpu_feature_guard.cc:193] This TensorFlow binary is optimized with oneAPI Deep Neural Network Library (oneDNN) to use the following CPU instructions in performance-critical operations:  AVX2 AVX512F FMA\n",
            "To enable them in other operations, rebuild TensorFlow with the appropriate compiler flags.\n",
            "2024-09-23 16:25:48.427748: W tensorflow/stream_executor/platform/default/dso_loader.cc:64] Could not load dynamic library 'libcudart.so.11.0'; dlerror: libcudart.so.11.0: cannot open shared object file: No such file or directory; LD_LIBRARY_PATH: /usr/lib64-nvidia\n",
            "2024-09-23 16:25:48.427785: I tensorflow/stream_executor/cuda/cudart_stub.cc:29] Ignore above cudart dlerror if you do not have a GPU set up on your machine.\n",
            "2024-09-23 16:25:48.536677: E tensorflow/stream_executor/cuda/cuda_blas.cc:2981] Unable to register cuBLAS factory: Attempting to register factory for plugin cuBLAS when one has already been registered\n",
            "2024-09-23 16:25:51.748501: W tensorflow/stream_executor/platform/default/dso_loader.cc:64] Could not load dynamic library 'libnvinfer.so.7'; dlerror: libnvinfer.so.7: cannot open shared object file: No such file or directory; LD_LIBRARY_PATH: /usr/lib64-nvidia\n",
            "2024-09-23 16:25:51.748635: W tensorflow/stream_executor/platform/default/dso_loader.cc:64] Could not load dynamic library 'libnvinfer_plugin.so.7'; dlerror: libnvinfer_plugin.so.7: cannot open shared object file: No such file or directory; LD_LIBRARY_PATH: /usr/lib64-nvidia\n",
            "2024-09-23 16:25:51.748660: W tensorflow/compiler/tf2tensorrt/utils/py_utils.cc:38] TF-TRT Warning: Cannot dlopen some TensorRT libraries. If you would like to use Nvidia GPU with TensorRT, please make sure the missing libraries mentioned above are installed properly.\n",
            "WARNING:tensorflow:From /usr/local/lib/python3.10/dist-packages/tensorflow/python/compat/v2_compat.py:107: disable_resource_variables (from tensorflow.python.ops.variable_scope) is deprecated and will be removed in a future version.\n",
            "Instructions for updating:\n",
            "non-resource variables are not supported in the long term\n",
            "/content/py_utils/vid_utils/proc_vid.py:32: SyntaxWarning: \"is not\" with a literal. Did you mean \"!=\"?\n",
            "  if size is not 'None':\n",
            "2024-09-23 16:26:00.027345: I tensorflow/core/platform/cpu_feature_guard.cc:193] This TensorFlow binary is optimized with oneAPI Deep Neural Network Library (oneDNN) to use the following CPU instructions in performance-critical operations:  AVX2 AVX512F FMA\n",
            "To enable them in other operations, rebuild TensorFlow with the appropriate compiler flags.\n",
            "2024-09-23 16:26:00.062262: I tensorflow/stream_executor/cuda/cuda_gpu_executor.cc:980] successful NUMA node read from SysFS had negative value (-1), but there must be at least one NUMA node, so returning NUMA node zero\n",
            "2024-09-23 16:26:00.064037: W tensorflow/stream_executor/platform/default/dso_loader.cc:64] Could not load dynamic library 'libcudart.so.11.0'; dlerror: libcudart.so.11.0: cannot open shared object file: No such file or directory; LD_LIBRARY_PATH: /usr/local/lib/python3.10/dist-packages/cv2/../../lib64:/usr/lib64-nvidia\n",
            "2024-09-23 16:26:00.064220: W tensorflow/stream_executor/platform/default/dso_loader.cc:64] Could not load dynamic library 'libcublas.so.11'; dlerror: libcublas.so.11: cannot open shared object file: No such file or directory; LD_LIBRARY_PATH: /usr/local/lib/python3.10/dist-packages/cv2/../../lib64:/usr/lib64-nvidia\n",
            "2024-09-23 16:26:00.064390: W tensorflow/stream_executor/platform/default/dso_loader.cc:64] Could not load dynamic library 'libcublasLt.so.11'; dlerror: libcublasLt.so.11: cannot open shared object file: No such file or directory; LD_LIBRARY_PATH: /usr/local/lib/python3.10/dist-packages/cv2/../../lib64:/usr/lib64-nvidia\n",
            "2024-09-23 16:26:00.064787: W tensorflow/stream_executor/platform/default/dso_loader.cc:64] Could not load dynamic library 'libcufft.so.10'; dlerror: libcufft.so.10: cannot open shared object file: No such file or directory; LD_LIBRARY_PATH: /usr/local/lib/python3.10/dist-packages/cv2/../../lib64:/usr/lib64-nvidia\n",
            "2024-09-23 16:26:00.065161: W tensorflow/stream_executor/platform/default/dso_loader.cc:64] Could not load dynamic library 'libcusparse.so.11'; dlerror: libcusparse.so.11: cannot open shared object file: No such file or directory; LD_LIBRARY_PATH: /usr/local/lib/python3.10/dist-packages/cv2/../../lib64:/usr/lib64-nvidia\n",
            "2024-09-23 16:26:00.065327: W tensorflow/core/common_runtime/gpu/gpu_device.cc:1934] Cannot dlopen some GPU libraries. Please make sure the missing libraries mentioned above are installed properly if you would like to use GPU. Follow the guide at https://www.tensorflow.org/install/gpu for how to download and setup the required libraries for your platform.\n",
            "Skipping registering GPU devices...\n",
            "/usr/local/lib/python3.10/dist-packages/tensorflow/python/keras/engine/base_layer_v1.py:1694: UserWarning: `layer.apply` is deprecated and will be removed in a future version. Please use `layer.__call__` method instead.\n",
            "  warnings.warn('`layer.apply` is deprecated and '\n",
            "2024-09-23 16:26:06.575169: I tensorflow/compiler/mlir/mlir_graph_optimization_pass.cc:354] MLIR V1 optimization pass is not enabled\n"
          ]
        }
      ]
    },
    {
      "cell_type": "code",
      "source": [
        "!python demo.py --input_dir=test_imgs/fake > fake_results.txt"
      ],
      "metadata": {
        "colab": {
          "base_uri": "https://localhost:8080/"
        },
        "collapsed": true,
        "id": "gG2zl5MMl5bP",
        "outputId": "4e7d8e85-0f9b-4da0-ac38-7a06b89c43e6"
      },
      "execution_count": null,
      "outputs": [
        {
          "output_type": "stream",
          "name": "stdout",
          "text": [
            "2024-09-23 16:28:58.504174: I tensorflow/core/platform/cpu_feature_guard.cc:193] This TensorFlow binary is optimized with oneAPI Deep Neural Network Library (oneDNN) to use the following CPU instructions in performance-critical operations:  AVX2 AVX512F FMA\n",
            "To enable them in other operations, rebuild TensorFlow with the appropriate compiler flags.\n",
            "2024-09-23 16:28:58.640790: W tensorflow/stream_executor/platform/default/dso_loader.cc:64] Could not load dynamic library 'libcudart.so.11.0'; dlerror: libcudart.so.11.0: cannot open shared object file: No such file or directory; LD_LIBRARY_PATH: /usr/lib64-nvidia\n",
            "2024-09-23 16:28:58.640823: I tensorflow/stream_executor/cuda/cudart_stub.cc:29] Ignore above cudart dlerror if you do not have a GPU set up on your machine.\n",
            "2024-09-23 16:28:58.672180: E tensorflow/stream_executor/cuda/cuda_blas.cc:2981] Unable to register cuBLAS factory: Attempting to register factory for plugin cuBLAS when one has already been registered\n",
            "2024-09-23 16:29:00.012115: W tensorflow/stream_executor/platform/default/dso_loader.cc:64] Could not load dynamic library 'libnvinfer.so.7'; dlerror: libnvinfer.so.7: cannot open shared object file: No such file or directory; LD_LIBRARY_PATH: /usr/lib64-nvidia\n",
            "2024-09-23 16:29:00.012273: W tensorflow/stream_executor/platform/default/dso_loader.cc:64] Could not load dynamic library 'libnvinfer_plugin.so.7'; dlerror: libnvinfer_plugin.so.7: cannot open shared object file: No such file or directory; LD_LIBRARY_PATH: /usr/lib64-nvidia\n",
            "2024-09-23 16:29:00.012320: W tensorflow/compiler/tf2tensorrt/utils/py_utils.cc:38] TF-TRT Warning: Cannot dlopen some TensorRT libraries. If you would like to use Nvidia GPU with TensorRT, please make sure the missing libraries mentioned above are installed properly.\n",
            "WARNING:tensorflow:From /usr/local/lib/python3.10/dist-packages/tensorflow/python/compat/v2_compat.py:107: disable_resource_variables (from tensorflow.python.ops.variable_scope) is deprecated and will be removed in a future version.\n",
            "Instructions for updating:\n",
            "non-resource variables are not supported in the long term\n",
            "2024-09-23 16:29:04.030686: I tensorflow/core/platform/cpu_feature_guard.cc:193] This TensorFlow binary is optimized with oneAPI Deep Neural Network Library (oneDNN) to use the following CPU instructions in performance-critical operations:  AVX2 AVX512F FMA\n",
            "To enable them in other operations, rebuild TensorFlow with the appropriate compiler flags.\n",
            "2024-09-23 16:29:04.052910: I tensorflow/stream_executor/cuda/cuda_gpu_executor.cc:980] successful NUMA node read from SysFS had negative value (-1), but there must be at least one NUMA node, so returning NUMA node zero\n",
            "2024-09-23 16:29:04.053261: W tensorflow/stream_executor/platform/default/dso_loader.cc:64] Could not load dynamic library 'libcudart.so.11.0'; dlerror: libcudart.so.11.0: cannot open shared object file: No such file or directory; LD_LIBRARY_PATH: /usr/local/lib/python3.10/dist-packages/cv2/../../lib64:/usr/lib64-nvidia\n",
            "2024-09-23 16:29:04.053438: W tensorflow/stream_executor/platform/default/dso_loader.cc:64] Could not load dynamic library 'libcublas.so.11'; dlerror: libcublas.so.11: cannot open shared object file: No such file or directory; LD_LIBRARY_PATH: /usr/local/lib/python3.10/dist-packages/cv2/../../lib64:/usr/lib64-nvidia\n",
            "2024-09-23 16:29:04.053562: W tensorflow/stream_executor/platform/default/dso_loader.cc:64] Could not load dynamic library 'libcublasLt.so.11'; dlerror: libcublasLt.so.11: cannot open shared object file: No such file or directory; LD_LIBRARY_PATH: /usr/local/lib/python3.10/dist-packages/cv2/../../lib64:/usr/lib64-nvidia\n",
            "2024-09-23 16:29:04.053676: W tensorflow/stream_executor/platform/default/dso_loader.cc:64] Could not load dynamic library 'libcufft.so.10'; dlerror: libcufft.so.10: cannot open shared object file: No such file or directory; LD_LIBRARY_PATH: /usr/local/lib/python3.10/dist-packages/cv2/../../lib64:/usr/lib64-nvidia\n",
            "2024-09-23 16:29:04.053925: W tensorflow/stream_executor/platform/default/dso_loader.cc:64] Could not load dynamic library 'libcusparse.so.11'; dlerror: libcusparse.so.11: cannot open shared object file: No such file or directory; LD_LIBRARY_PATH: /usr/local/lib/python3.10/dist-packages/cv2/../../lib64:/usr/lib64-nvidia\n",
            "2024-09-23 16:29:04.054010: W tensorflow/core/common_runtime/gpu/gpu_device.cc:1934] Cannot dlopen some GPU libraries. Please make sure the missing libraries mentioned above are installed properly if you would like to use GPU. Follow the guide at https://www.tensorflow.org/install/gpu for how to download and setup the required libraries for your platform.\n",
            "Skipping registering GPU devices...\n",
            "/usr/local/lib/python3.10/dist-packages/tensorflow/python/keras/engine/base_layer_v1.py:1694: UserWarning: `layer.apply` is deprecated and will be removed in a future version. Please use `layer.__call__` method instead.\n",
            "  warnings.warn('`layer.apply` is deprecated and '\n",
            "2024-09-23 16:29:05.973729: I tensorflow/compiler/mlir/mlir_graph_optimization_pass.cc:354] MLIR V1 optimization pass is not enabled\n"
          ]
        }
      ]
    },
    {
      "cell_type": "code",
      "source": [
        "y_true = []\n",
        "y_pred = []\n",
        "with open(\"real_results.txt\", \"r\") as f:\n",
        "  lines = f.readlines()\n",
        "  for line in lines:\n",
        "    if line.startswith(\"Prob:\"):\n",
        "      prob = float(line.split(\" \")[1][:-1])\n",
        "      y_pred.append(prob)\n",
        "      y_true.append(0)\n",
        "with open(\"fake_results.txt\", \"r\") as f:\n",
        "  lines = f.readlines()\n",
        "  for line in lines:\n",
        "    if line.startswith(\"Prob:\"):\n",
        "      prob = float(line.split(\" \")[1][:-1])\n",
        "      y_pred.append(prob)\n",
        "      y_true.append(1)\n",
        "y_true = np.array(y_true)\n",
        "y_pred = np.array(y_pred)"
      ],
      "metadata": {
        "id": "xHsFzMe8mAT8"
      },
      "execution_count": null,
      "outputs": []
    },
    {
      "cell_type": "code",
      "source": [
        "import matplotlib.pyplot as plt\n",
        "from sklearn.metrics import (precision_recall_curve, accuracy_score,\n",
        "                             confusion_matrix, roc_auc_score, roc_curve,\n",
        "                             matthews_corrcoef, auc,\n",
        "                             RocCurveDisplay, PrecisionRecallDisplay, auc)\n",
        "\n",
        "precision, recall, thresholds = precision_recall_curve(y_true, y_pred)\n",
        "disp = PrecisionRecallDisplay(precision=precision, recall=recall)\n",
        "disp.plot()\n",
        "plt.show()\n",
        "fscore = (2 * precision * recall) / (precision + recall)\n",
        "ix = np.argmax(fscore)\n",
        "print(\"threshold:\", thresholds[ix])\n",
        "print(\"f-score:\", fscore[ix])\n",
        "print(\"precision:\", recall[ix])\n",
        "print(\"recall:\", precision[ix])\n",
        "\n",
        "print(\"accuracy:\", accuracy_score(y_true, y_pred>thresholds[ix]))\n",
        "\n",
        "fpr, tpr, thresholds = roc_curve(y_true, y_pred)\n",
        "roc_auc = auc(fpr, tpr)\n",
        "display = RocCurveDisplay(fpr=fpr, tpr=tpr, roc_auc=roc_auc)\n",
        "display.plot()\n",
        "plt.show()\n",
        "\n",
        "ix = np.argmax(tpr - fpr)\n",
        "print(\"threshold:\", thresholds[ix])\n",
        "print(\"accuracy:\", accuracy_score(y_true, y_pred>thresholds[ix]))\n",
        "print(\"MCC:\", matthews_corrcoef(y_true, y_pred>thresholds[ix]))"
      ],
      "metadata": {
        "colab": {
          "base_uri": "https://localhost:8080/",
          "height": 1000
        },
        "id": "R3KiqIX1mBbk",
        "outputId": "f42ac255-3953-4954-a148-ae69728e353a"
      },
      "execution_count": null,
      "outputs": [
        {
          "output_type": "display_data",
          "data": {
            "text/plain": [
              "<Figure size 640x480 with 1 Axes>"
            ],
            "image/png": "[encoded data removed]"
          },
          "metadata": {}
        },
        {
          "output_type": "stream",
          "name": "stdout",
          "text": [
            "threshold: -1.0\n",
            "f-score: 0.7697262479871175\n",
            "precision: 1.0\n",
            "recall: 0.6256544502617801\n",
            "accuracy: 0.6178010471204188\n"
          ]
        },
        {
          "output_type": "display_data",
          "data": {
            "text/plain": [
              "<Figure size 640x480 with 1 Axes>"
            ],
            "image/png": "[encoded data removed]"
          },
          "metadata": {}
        },
        {
          "output_type": "stream",
          "name": "stdout",
          "text": [
            "threshold: 0.5272802\n",
            "accuracy: 0.5157068062827225\n",
            "MCC: 0.1284838751442009\n"
          ]
        }
      ]
    },
    {
      "cell_type": "code",
      "source": [],
      "metadata": {
        "id": "IhGpkbx7nheD"
      },
      "execution_count": null,
      "outputs": []
    }
  ]
}